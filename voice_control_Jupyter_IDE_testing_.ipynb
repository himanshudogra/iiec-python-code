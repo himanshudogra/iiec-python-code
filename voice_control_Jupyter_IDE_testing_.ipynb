{
 "cells": [
  {
   "cell_type": "code",
   "execution_count": 1,
   "metadata": {},
   "outputs": [
    {
     "name": "stdout",
     "output_type": "stream",
     "text": [
      "Welcome to my tools.\n",
      "\n",
      "We got you.. Please wait while we are working on your requirements.\n",
      "can you please show me today's date\n",
      "Tue Sep  8 19:54:08 IST 2020\n"
     ]
    }
   ],
   "source": [
    "import subprocess as sp\n",
    "import speech_recognition as sr\n",
    "import pyttsx3\n",
    "\n",
    "#print(sr.Microphone.list_microphone_names())\n",
    "\n",
    "print(\"Welcome to my tools.\\n\")\n",
    "\n",
    "r=sr.Recognizer()\n",
    "\n",
    "with sr.Microphone() as source:\n",
    "    pyttsx3.speak(\"Please tell your requirements.\")\n",
    "    audio=r.record(source,duration=5)\n",
    "    print(\"We got you.. Please wait while we are working on your requirements.\")\n",
    "\n",
    "i=r.recognize_google(audio,language='en-US')\n",
    "\n",
    "print(i)\n",
    "\n",
    "if ((\"check\" in i) or (\"show\" in i) or (\"update\" in i) or (\"is\" in i) or (\"tell\" in i)) and (((\"date\" in i) and (\"today\" in i)) or (\"date\" in i) or ((\"today's\" in i) and (\"date\" in i))):\n",
    "    pyttsx3.speak(\"Here is today's date.\")\n",
    "    print(sp.getoutput(\"date\"))\n",
    "else:\n",
    "    print(\"We don't support it.\")\n",
    "\n",
    "\n",
    "\n"
   ]
  },
  {
   "cell_type": "code",
   "execution_count": null,
   "metadata": {},
   "outputs": [],
   "source": []
  }
 ],
 "metadata": {
  "kernelspec": {
   "display_name": "Python 3",
   "language": "python",
   "name": "python3"
  },
  "language_info": {
   "codemirror_mode": {
    "name": "ipython",
    "version": 3
   },
   "file_extension": ".py",
   "mimetype": "text/x-python",
   "name": "python",
   "nbconvert_exporter": "python",
   "pygments_lexer": "ipython3",
   "version": "3.8.3"
  }
 },
 "nbformat": 4,
 "nbformat_minor": 4
}
